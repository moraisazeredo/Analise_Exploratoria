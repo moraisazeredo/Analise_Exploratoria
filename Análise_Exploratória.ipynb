{
 "cells": [
  {
   "cell_type": "code",
   "execution_count": 307,
   "id": "c329ffca",
   "metadata": {},
   "outputs": [],
   "source": [
    "import pandas as pd\n",
    "import numpy as np\n",
    "import matplotlib.pylab as plt\n",
    "import seaborn as sns\n",
    "plt.style.use('ggplot')"
   ]
  },
  {
   "cell_type": "code",
   "execution_count": 308,
   "id": "705f6f05",
   "metadata": {},
   "outputs": [
    {
     "data": {
      "text/html": [
       "<div>\n",
       "<style scoped>\n",
       "    .dataframe tbody tr th:only-of-type {\n",
       "        vertical-align: middle;\n",
       "    }\n",
       "\n",
       "    .dataframe tbody tr th {\n",
       "        vertical-align: top;\n",
       "    }\n",
       "\n",
       "    .dataframe thead th {\n",
       "        text-align: right;\n",
       "    }\n",
       "</style>\n",
       "<table border=\"1\" class=\"dataframe\">\n",
       "  <thead>\n",
       "    <tr style=\"text-align: right;\">\n",
       "      <th></th>\n",
       "      <th>Age</th>\n",
       "      <th>Gender</th>\n",
       "      <th>Education Level</th>\n",
       "      <th>Job Title</th>\n",
       "      <th>Years of Experience</th>\n",
       "      <th>Salary</th>\n",
       "    </tr>\n",
       "  </thead>\n",
       "  <tbody>\n",
       "    <tr>\n",
       "      <th>0</th>\n",
       "      <td>32.0</td>\n",
       "      <td>Male</td>\n",
       "      <td>Bachelor's</td>\n",
       "      <td>Software Engineer</td>\n",
       "      <td>5.0</td>\n",
       "      <td>90000.0</td>\n",
       "    </tr>\n",
       "    <tr>\n",
       "      <th>1</th>\n",
       "      <td>28.0</td>\n",
       "      <td>Female</td>\n",
       "      <td>Master's</td>\n",
       "      <td>Data Analyst</td>\n",
       "      <td>3.0</td>\n",
       "      <td>65000.0</td>\n",
       "    </tr>\n",
       "    <tr>\n",
       "      <th>2</th>\n",
       "      <td>45.0</td>\n",
       "      <td>Male</td>\n",
       "      <td>PhD</td>\n",
       "      <td>Senior Manager</td>\n",
       "      <td>15.0</td>\n",
       "      <td>150000.0</td>\n",
       "    </tr>\n",
       "    <tr>\n",
       "      <th>3</th>\n",
       "      <td>36.0</td>\n",
       "      <td>Female</td>\n",
       "      <td>Bachelor's</td>\n",
       "      <td>Sales Associate</td>\n",
       "      <td>7.0</td>\n",
       "      <td>60000.0</td>\n",
       "    </tr>\n",
       "    <tr>\n",
       "      <th>4</th>\n",
       "      <td>52.0</td>\n",
       "      <td>Male</td>\n",
       "      <td>Master's</td>\n",
       "      <td>Director</td>\n",
       "      <td>20.0</td>\n",
       "      <td>200000.0</td>\n",
       "    </tr>\n",
       "    <tr>\n",
       "      <th>...</th>\n",
       "      <td>...</td>\n",
       "      <td>...</td>\n",
       "      <td>...</td>\n",
       "      <td>...</td>\n",
       "      <td>...</td>\n",
       "      <td>...</td>\n",
       "    </tr>\n",
       "    <tr>\n",
       "      <th>6699</th>\n",
       "      <td>49.0</td>\n",
       "      <td>Female</td>\n",
       "      <td>PhD</td>\n",
       "      <td>Director of Marketing</td>\n",
       "      <td>20.0</td>\n",
       "      <td>200000.0</td>\n",
       "    </tr>\n",
       "    <tr>\n",
       "      <th>6700</th>\n",
       "      <td>32.0</td>\n",
       "      <td>Male</td>\n",
       "      <td>High School</td>\n",
       "      <td>Sales Associate</td>\n",
       "      <td>3.0</td>\n",
       "      <td>50000.0</td>\n",
       "    </tr>\n",
       "    <tr>\n",
       "      <th>6701</th>\n",
       "      <td>30.0</td>\n",
       "      <td>Female</td>\n",
       "      <td>Bachelor's Degree</td>\n",
       "      <td>Financial Manager</td>\n",
       "      <td>4.0</td>\n",
       "      <td>55000.0</td>\n",
       "    </tr>\n",
       "    <tr>\n",
       "      <th>6702</th>\n",
       "      <td>46.0</td>\n",
       "      <td>Male</td>\n",
       "      <td>Master's Degree</td>\n",
       "      <td>Marketing Manager</td>\n",
       "      <td>14.0</td>\n",
       "      <td>140000.0</td>\n",
       "    </tr>\n",
       "    <tr>\n",
       "      <th>6703</th>\n",
       "      <td>26.0</td>\n",
       "      <td>Female</td>\n",
       "      <td>High School</td>\n",
       "      <td>Sales Executive</td>\n",
       "      <td>1.0</td>\n",
       "      <td>35000.0</td>\n",
       "    </tr>\n",
       "  </tbody>\n",
       "</table>\n",
       "<p>6704 rows × 6 columns</p>\n",
       "</div>"
      ],
      "text/plain": [
       "       Age  Gender    Education Level              Job Title  \\\n",
       "0     32.0    Male         Bachelor's      Software Engineer   \n",
       "1     28.0  Female           Master's           Data Analyst   \n",
       "2     45.0    Male                PhD         Senior Manager   \n",
       "3     36.0  Female         Bachelor's        Sales Associate   \n",
       "4     52.0    Male           Master's               Director   \n",
       "...    ...     ...                ...                    ...   \n",
       "6699  49.0  Female                PhD  Director of Marketing   \n",
       "6700  32.0    Male        High School        Sales Associate   \n",
       "6701  30.0  Female  Bachelor's Degree      Financial Manager   \n",
       "6702  46.0    Male    Master's Degree      Marketing Manager   \n",
       "6703  26.0  Female        High School        Sales Executive   \n",
       "\n",
       "      Years of Experience    Salary  \n",
       "0                     5.0   90000.0  \n",
       "1                     3.0   65000.0  \n",
       "2                    15.0  150000.0  \n",
       "3                     7.0   60000.0  \n",
       "4                    20.0  200000.0  \n",
       "...                   ...       ...  \n",
       "6699                 20.0  200000.0  \n",
       "6700                  3.0   50000.0  \n",
       "6701                  4.0   55000.0  \n",
       "6702                 14.0  140000.0  \n",
       "6703                  1.0   35000.0  \n",
       "\n",
       "[6704 rows x 6 columns]"
      ]
     },
     "execution_count": 308,
     "metadata": {},
     "output_type": "execute_result"
    }
   ],
   "source": [
    "df = pd.read_csv(r\"C:\\Users\\joao.morais\\Desktop\\Arquivos Joao\\Python\\Aulas_python\\Análises Exploratórias\\Salary_data.csv\")\n",
    "df"
   ]
  },
  {
   "cell_type": "markdown",
   "id": "73d3dbed",
   "metadata": {},
   "source": [
    "## Preparação dos Dados\n",
    "* head e tail\n",
    "* shape\n",
    "* dtypes\n",
    "* describe"
   ]
  },
  {
   "cell_type": "code",
   "execution_count": 309,
   "id": "b6069f87",
   "metadata": {},
   "outputs": [
    {
     "data": {
      "text/html": [
       "<div>\n",
       "<style scoped>\n",
       "    .dataframe tbody tr th:only-of-type {\n",
       "        vertical-align: middle;\n",
       "    }\n",
       "\n",
       "    .dataframe tbody tr th {\n",
       "        vertical-align: top;\n",
       "    }\n",
       "\n",
       "    .dataframe thead th {\n",
       "        text-align: right;\n",
       "    }\n",
       "</style>\n",
       "<table border=\"1\" class=\"dataframe\">\n",
       "  <thead>\n",
       "    <tr style=\"text-align: right;\">\n",
       "      <th></th>\n",
       "      <th>Age</th>\n",
       "      <th>Gender</th>\n",
       "      <th>Education Level</th>\n",
       "      <th>Job Title</th>\n",
       "      <th>Years of Experience</th>\n",
       "      <th>Salary</th>\n",
       "    </tr>\n",
       "  </thead>\n",
       "  <tbody>\n",
       "    <tr>\n",
       "      <th>0</th>\n",
       "      <td>32.0</td>\n",
       "      <td>Male</td>\n",
       "      <td>Bachelor's</td>\n",
       "      <td>Software Engineer</td>\n",
       "      <td>5.0</td>\n",
       "      <td>90000.0</td>\n",
       "    </tr>\n",
       "    <tr>\n",
       "      <th>1</th>\n",
       "      <td>28.0</td>\n",
       "      <td>Female</td>\n",
       "      <td>Master's</td>\n",
       "      <td>Data Analyst</td>\n",
       "      <td>3.0</td>\n",
       "      <td>65000.0</td>\n",
       "    </tr>\n",
       "    <tr>\n",
       "      <th>2</th>\n",
       "      <td>45.0</td>\n",
       "      <td>Male</td>\n",
       "      <td>PhD</td>\n",
       "      <td>Senior Manager</td>\n",
       "      <td>15.0</td>\n",
       "      <td>150000.0</td>\n",
       "    </tr>\n",
       "    <tr>\n",
       "      <th>3</th>\n",
       "      <td>36.0</td>\n",
       "      <td>Female</td>\n",
       "      <td>Bachelor's</td>\n",
       "      <td>Sales Associate</td>\n",
       "      <td>7.0</td>\n",
       "      <td>60000.0</td>\n",
       "    </tr>\n",
       "    <tr>\n",
       "      <th>4</th>\n",
       "      <td>52.0</td>\n",
       "      <td>Male</td>\n",
       "      <td>Master's</td>\n",
       "      <td>Director</td>\n",
       "      <td>20.0</td>\n",
       "      <td>200000.0</td>\n",
       "    </tr>\n",
       "  </tbody>\n",
       "</table>\n",
       "</div>"
      ],
      "text/plain": [
       "    Age  Gender Education Level          Job Title  Years of Experience  \\\n",
       "0  32.0    Male      Bachelor's  Software Engineer                  5.0   \n",
       "1  28.0  Female        Master's       Data Analyst                  3.0   \n",
       "2  45.0    Male             PhD     Senior Manager                 15.0   \n",
       "3  36.0  Female      Bachelor's    Sales Associate                  7.0   \n",
       "4  52.0    Male        Master's           Director                 20.0   \n",
       "\n",
       "     Salary  \n",
       "0   90000.0  \n",
       "1   65000.0  \n",
       "2  150000.0  \n",
       "3   60000.0  \n",
       "4  200000.0  "
      ]
     },
     "execution_count": 309,
     "metadata": {},
     "output_type": "execute_result"
    }
   ],
   "source": [
    "df.head()"
   ]
  },
  {
   "cell_type": "code",
   "execution_count": 310,
   "id": "d85f8b63",
   "metadata": {},
   "outputs": [
    {
     "data": {
      "text/html": [
       "<div>\n",
       "<style scoped>\n",
       "    .dataframe tbody tr th:only-of-type {\n",
       "        vertical-align: middle;\n",
       "    }\n",
       "\n",
       "    .dataframe tbody tr th {\n",
       "        vertical-align: top;\n",
       "    }\n",
       "\n",
       "    .dataframe thead th {\n",
       "        text-align: right;\n",
       "    }\n",
       "</style>\n",
       "<table border=\"1\" class=\"dataframe\">\n",
       "  <thead>\n",
       "    <tr style=\"text-align: right;\">\n",
       "      <th></th>\n",
       "      <th>Age</th>\n",
       "      <th>Gender</th>\n",
       "      <th>Education Level</th>\n",
       "      <th>Job Title</th>\n",
       "      <th>Years of Experience</th>\n",
       "      <th>Salary</th>\n",
       "    </tr>\n",
       "  </thead>\n",
       "  <tbody>\n",
       "    <tr>\n",
       "      <th>6699</th>\n",
       "      <td>49.0</td>\n",
       "      <td>Female</td>\n",
       "      <td>PhD</td>\n",
       "      <td>Director of Marketing</td>\n",
       "      <td>20.0</td>\n",
       "      <td>200000.0</td>\n",
       "    </tr>\n",
       "    <tr>\n",
       "      <th>6700</th>\n",
       "      <td>32.0</td>\n",
       "      <td>Male</td>\n",
       "      <td>High School</td>\n",
       "      <td>Sales Associate</td>\n",
       "      <td>3.0</td>\n",
       "      <td>50000.0</td>\n",
       "    </tr>\n",
       "    <tr>\n",
       "      <th>6701</th>\n",
       "      <td>30.0</td>\n",
       "      <td>Female</td>\n",
       "      <td>Bachelor's Degree</td>\n",
       "      <td>Financial Manager</td>\n",
       "      <td>4.0</td>\n",
       "      <td>55000.0</td>\n",
       "    </tr>\n",
       "    <tr>\n",
       "      <th>6702</th>\n",
       "      <td>46.0</td>\n",
       "      <td>Male</td>\n",
       "      <td>Master's Degree</td>\n",
       "      <td>Marketing Manager</td>\n",
       "      <td>14.0</td>\n",
       "      <td>140000.0</td>\n",
       "    </tr>\n",
       "    <tr>\n",
       "      <th>6703</th>\n",
       "      <td>26.0</td>\n",
       "      <td>Female</td>\n",
       "      <td>High School</td>\n",
       "      <td>Sales Executive</td>\n",
       "      <td>1.0</td>\n",
       "      <td>35000.0</td>\n",
       "    </tr>\n",
       "  </tbody>\n",
       "</table>\n",
       "</div>"
      ],
      "text/plain": [
       "       Age  Gender    Education Level              Job Title  \\\n",
       "6699  49.0  Female                PhD  Director of Marketing   \n",
       "6700  32.0    Male        High School        Sales Associate   \n",
       "6701  30.0  Female  Bachelor's Degree      Financial Manager   \n",
       "6702  46.0    Male    Master's Degree      Marketing Manager   \n",
       "6703  26.0  Female        High School        Sales Executive   \n",
       "\n",
       "      Years of Experience    Salary  \n",
       "6699                 20.0  200000.0  \n",
       "6700                  3.0   50000.0  \n",
       "6701                  4.0   55000.0  \n",
       "6702                 14.0  140000.0  \n",
       "6703                  1.0   35000.0  "
      ]
     },
     "execution_count": 310,
     "metadata": {},
     "output_type": "execute_result"
    }
   ],
   "source": [
    "df.tail()"
   ]
  },
  {
   "cell_type": "code",
   "execution_count": 311,
   "id": "f739b62d",
   "metadata": {},
   "outputs": [
    {
     "data": {
      "text/plain": [
       "(6704, 6)"
      ]
     },
     "execution_count": 311,
     "metadata": {},
     "output_type": "execute_result"
    }
   ],
   "source": [
    "df.shape"
   ]
  },
  {
   "cell_type": "code",
   "execution_count": 312,
   "id": "d9c075e4",
   "metadata": {},
   "outputs": [
    {
     "data": {
      "text/plain": [
       "Age                    float64\n",
       "Gender                  object\n",
       "Education Level         object\n",
       "Job Title               object\n",
       "Years of Experience    float64\n",
       "Salary                 float64\n",
       "dtype: object"
      ]
     },
     "execution_count": 312,
     "metadata": {},
     "output_type": "execute_result"
    }
   ],
   "source": [
    "df.dtypes"
   ]
  },
  {
   "cell_type": "code",
   "execution_count": 313,
   "id": "516b19d3",
   "metadata": {
    "scrolled": true
   },
   "outputs": [
    {
     "data": {
      "text/html": [
       "<div>\n",
       "<style scoped>\n",
       "    .dataframe tbody tr th:only-of-type {\n",
       "        vertical-align: middle;\n",
       "    }\n",
       "\n",
       "    .dataframe tbody tr th {\n",
       "        vertical-align: top;\n",
       "    }\n",
       "\n",
       "    .dataframe thead th {\n",
       "        text-align: right;\n",
       "    }\n",
       "</style>\n",
       "<table border=\"1\" class=\"dataframe\">\n",
       "  <thead>\n",
       "    <tr style=\"text-align: right;\">\n",
       "      <th></th>\n",
       "      <th>Age</th>\n",
       "      <th>Years of Experience</th>\n",
       "      <th>Salary</th>\n",
       "    </tr>\n",
       "  </thead>\n",
       "  <tbody>\n",
       "    <tr>\n",
       "      <th>count</th>\n",
       "      <td>6702.000000</td>\n",
       "      <td>6701.000000</td>\n",
       "      <td>6699.000000</td>\n",
       "    </tr>\n",
       "    <tr>\n",
       "      <th>mean</th>\n",
       "      <td>33.620859</td>\n",
       "      <td>8.094687</td>\n",
       "      <td>115326.964771</td>\n",
       "    </tr>\n",
       "    <tr>\n",
       "      <th>std</th>\n",
       "      <td>7.614633</td>\n",
       "      <td>6.059003</td>\n",
       "      <td>52786.183911</td>\n",
       "    </tr>\n",
       "    <tr>\n",
       "      <th>min</th>\n",
       "      <td>21.000000</td>\n",
       "      <td>0.000000</td>\n",
       "      <td>350.000000</td>\n",
       "    </tr>\n",
       "    <tr>\n",
       "      <th>25%</th>\n",
       "      <td>28.000000</td>\n",
       "      <td>3.000000</td>\n",
       "      <td>70000.000000</td>\n",
       "    </tr>\n",
       "    <tr>\n",
       "      <th>50%</th>\n",
       "      <td>32.000000</td>\n",
       "      <td>7.000000</td>\n",
       "      <td>115000.000000</td>\n",
       "    </tr>\n",
       "    <tr>\n",
       "      <th>75%</th>\n",
       "      <td>38.000000</td>\n",
       "      <td>12.000000</td>\n",
       "      <td>160000.000000</td>\n",
       "    </tr>\n",
       "    <tr>\n",
       "      <th>max</th>\n",
       "      <td>62.000000</td>\n",
       "      <td>34.000000</td>\n",
       "      <td>250000.000000</td>\n",
       "    </tr>\n",
       "  </tbody>\n",
       "</table>\n",
       "</div>"
      ],
      "text/plain": [
       "               Age  Years of Experience         Salary\n",
       "count  6702.000000          6701.000000    6699.000000\n",
       "mean     33.620859             8.094687  115326.964771\n",
       "std       7.614633             6.059003   52786.183911\n",
       "min      21.000000             0.000000     350.000000\n",
       "25%      28.000000             3.000000   70000.000000\n",
       "50%      32.000000             7.000000  115000.000000\n",
       "75%      38.000000            12.000000  160000.000000\n",
       "max      62.000000            34.000000  250000.000000"
      ]
     },
     "execution_count": 313,
     "metadata": {},
     "output_type": "execute_result"
    }
   ],
   "source": [
    "df.describe()"
   ]
  },
  {
   "cell_type": "markdown",
   "id": "edca0104",
   "metadata": {},
   "source": [
    "## Preparação dos Dados\n",
    "* Renomeando colunas\n",
    "* Removendo linhas indesejadas\n",
    "* Identificando colunas duplicadas\n",
    "* Identificando valores nulos"
   ]
  },
  {
   "cell_type": "code",
   "execution_count": 314,
   "id": "3bf84bd4",
   "metadata": {},
   "outputs": [
    {
     "data": {
      "text/html": [
       "<div>\n",
       "<style scoped>\n",
       "    .dataframe tbody tr th:only-of-type {\n",
       "        vertical-align: middle;\n",
       "    }\n",
       "\n",
       "    .dataframe tbody tr th {\n",
       "        vertical-align: top;\n",
       "    }\n",
       "\n",
       "    .dataframe thead th {\n",
       "        text-align: right;\n",
       "    }\n",
       "</style>\n",
       "<table border=\"1\" class=\"dataframe\">\n",
       "  <thead>\n",
       "    <tr style=\"text-align: right;\">\n",
       "      <th></th>\n",
       "      <th>Idade</th>\n",
       "      <th>Genero</th>\n",
       "      <th>Educacao</th>\n",
       "      <th>Cargo</th>\n",
       "      <th>Anos_de_Experiencia</th>\n",
       "      <th>Salario</th>\n",
       "    </tr>\n",
       "  </thead>\n",
       "  <tbody>\n",
       "    <tr>\n",
       "      <th>0</th>\n",
       "      <td>32.0</td>\n",
       "      <td>Male</td>\n",
       "      <td>Bachelor's</td>\n",
       "      <td>Software Engineer</td>\n",
       "      <td>5.0</td>\n",
       "      <td>90000.0</td>\n",
       "    </tr>\n",
       "    <tr>\n",
       "      <th>1</th>\n",
       "      <td>28.0</td>\n",
       "      <td>Female</td>\n",
       "      <td>Master's</td>\n",
       "      <td>Data Analyst</td>\n",
       "      <td>3.0</td>\n",
       "      <td>65000.0</td>\n",
       "    </tr>\n",
       "    <tr>\n",
       "      <th>2</th>\n",
       "      <td>45.0</td>\n",
       "      <td>Male</td>\n",
       "      <td>PhD</td>\n",
       "      <td>Senior Manager</td>\n",
       "      <td>15.0</td>\n",
       "      <td>150000.0</td>\n",
       "    </tr>\n",
       "    <tr>\n",
       "      <th>3</th>\n",
       "      <td>36.0</td>\n",
       "      <td>Female</td>\n",
       "      <td>Bachelor's</td>\n",
       "      <td>Sales Associate</td>\n",
       "      <td>7.0</td>\n",
       "      <td>60000.0</td>\n",
       "    </tr>\n",
       "    <tr>\n",
       "      <th>4</th>\n",
       "      <td>52.0</td>\n",
       "      <td>Male</td>\n",
       "      <td>Master's</td>\n",
       "      <td>Director</td>\n",
       "      <td>20.0</td>\n",
       "      <td>200000.0</td>\n",
       "    </tr>\n",
       "    <tr>\n",
       "      <th>...</th>\n",
       "      <td>...</td>\n",
       "      <td>...</td>\n",
       "      <td>...</td>\n",
       "      <td>...</td>\n",
       "      <td>...</td>\n",
       "      <td>...</td>\n",
       "    </tr>\n",
       "    <tr>\n",
       "      <th>6699</th>\n",
       "      <td>49.0</td>\n",
       "      <td>Female</td>\n",
       "      <td>PhD</td>\n",
       "      <td>Director of Marketing</td>\n",
       "      <td>20.0</td>\n",
       "      <td>200000.0</td>\n",
       "    </tr>\n",
       "    <tr>\n",
       "      <th>6700</th>\n",
       "      <td>32.0</td>\n",
       "      <td>Male</td>\n",
       "      <td>High School</td>\n",
       "      <td>Sales Associate</td>\n",
       "      <td>3.0</td>\n",
       "      <td>50000.0</td>\n",
       "    </tr>\n",
       "    <tr>\n",
       "      <th>6701</th>\n",
       "      <td>30.0</td>\n",
       "      <td>Female</td>\n",
       "      <td>Bachelor's Degree</td>\n",
       "      <td>Financial Manager</td>\n",
       "      <td>4.0</td>\n",
       "      <td>55000.0</td>\n",
       "    </tr>\n",
       "    <tr>\n",
       "      <th>6702</th>\n",
       "      <td>46.0</td>\n",
       "      <td>Male</td>\n",
       "      <td>Master's Degree</td>\n",
       "      <td>Marketing Manager</td>\n",
       "      <td>14.0</td>\n",
       "      <td>140000.0</td>\n",
       "    </tr>\n",
       "    <tr>\n",
       "      <th>6703</th>\n",
       "      <td>26.0</td>\n",
       "      <td>Female</td>\n",
       "      <td>High School</td>\n",
       "      <td>Sales Executive</td>\n",
       "      <td>1.0</td>\n",
       "      <td>35000.0</td>\n",
       "    </tr>\n",
       "  </tbody>\n",
       "</table>\n",
       "<p>6704 rows × 6 columns</p>\n",
       "</div>"
      ],
      "text/plain": [
       "      Idade  Genero           Educacao                  Cargo  \\\n",
       "0      32.0    Male         Bachelor's      Software Engineer   \n",
       "1      28.0  Female           Master's           Data Analyst   \n",
       "2      45.0    Male                PhD         Senior Manager   \n",
       "3      36.0  Female         Bachelor's        Sales Associate   \n",
       "4      52.0    Male           Master's               Director   \n",
       "...     ...     ...                ...                    ...   \n",
       "6699   49.0  Female                PhD  Director of Marketing   \n",
       "6700   32.0    Male        High School        Sales Associate   \n",
       "6701   30.0  Female  Bachelor's Degree      Financial Manager   \n",
       "6702   46.0    Male    Master's Degree      Marketing Manager   \n",
       "6703   26.0  Female        High School        Sales Executive   \n",
       "\n",
       "      Anos_de_Experiencia   Salario  \n",
       "0                     5.0   90000.0  \n",
       "1                     3.0   65000.0  \n",
       "2                    15.0  150000.0  \n",
       "3                     7.0   60000.0  \n",
       "4                    20.0  200000.0  \n",
       "...                   ...       ...  \n",
       "6699                 20.0  200000.0  \n",
       "6700                  3.0   50000.0  \n",
       "6701                  4.0   55000.0  \n",
       "6702                 14.0  140000.0  \n",
       "6703                  1.0   35000.0  \n",
       "\n",
       "[6704 rows x 6 columns]"
      ]
     },
     "execution_count": 314,
     "metadata": {},
     "output_type": "execute_result"
    }
   ],
   "source": [
    "columns_renamed = {'Age':'Idade', 'Gender':'Genero', 'Education Level':'Educacao', 'Job Title':'Cargo', \n",
    "                   'Years of Experience':'Anos_de_Experiencia', 'Salary':'Salario'}\n",
    "df = df.rename(columns = columns_renamed)\n",
    "df"
   ]
  },
  {
   "cell_type": "code",
   "execution_count": 315,
   "id": "a4dc9639",
   "metadata": {},
   "outputs": [],
   "source": [
    "df.drop(df[df['Educacao'] == 'phD'].index, inplace = True)"
   ]
  },
  {
   "cell_type": "code",
   "execution_count": 316,
   "id": "94158bcd",
   "metadata": {},
   "outputs": [],
   "source": [
    "df = df[df['Genero'] != 'Other']"
   ]
  },
  {
   "cell_type": "code",
   "execution_count": 317,
   "id": "1f9eb868",
   "metadata": {},
   "outputs": [
    {
     "name": "stderr",
     "output_type": "stream",
     "text": [
      "C:\\Users\\joao.morais\\AppData\\Local\\Temp\\ipykernel_19916\\1246324132.py:1: SettingWithCopyWarning: \n",
      "A value is trying to be set on a copy of a slice from a DataFrame.\n",
      "Try using .loc[row_indexer,col_indexer] = value instead\n",
      "\n",
      "See the caveats in the documentation: https://pandas.pydata.org/pandas-docs/stable/user_guide/indexing.html#returning-a-view-versus-a-copy\n",
      "  df['Educacao'] = df['Educacao'].replace(\"Bachelor's Degree\", \"Bachelor's\")\n"
     ]
    }
   ],
   "source": [
    "df['Educacao'] = df['Educacao'].replace(\"Bachelor's Degree\", \"Bachelor's\")"
   ]
  },
  {
   "cell_type": "code",
   "execution_count": 318,
   "id": "5a3b40c9",
   "metadata": {},
   "outputs": [
    {
     "name": "stderr",
     "output_type": "stream",
     "text": [
      "C:\\Users\\joao.morais\\AppData\\Local\\Temp\\ipykernel_19916\\3455525122.py:1: SettingWithCopyWarning: \n",
      "A value is trying to be set on a copy of a slice from a DataFrame.\n",
      "Try using .loc[row_indexer,col_indexer] = value instead\n",
      "\n",
      "See the caveats in the documentation: https://pandas.pydata.org/pandas-docs/stable/user_guide/indexing.html#returning-a-view-versus-a-copy\n",
      "  df['Educacao'] = df['Educacao'].replace(\"Master's Degree\", \"Master's\")\n"
     ]
    }
   ],
   "source": [
    "df['Educacao'] = df['Educacao'].replace(\"Master's Degree\", \"Master's\")"
   ]
  },
  {
   "cell_type": "code",
   "execution_count": 319,
   "id": "8022103e",
   "metadata": {},
   "outputs": [
    {
     "data": {
      "text/html": [
       "<div>\n",
       "<style scoped>\n",
       "    .dataframe tbody tr th:only-of-type {\n",
       "        vertical-align: middle;\n",
       "    }\n",
       "\n",
       "    .dataframe tbody tr th {\n",
       "        vertical-align: top;\n",
       "    }\n",
       "\n",
       "    .dataframe thead th {\n",
       "        text-align: right;\n",
       "    }\n",
       "</style>\n",
       "<table border=\"1\" class=\"dataframe\">\n",
       "  <thead>\n",
       "    <tr style=\"text-align: right;\">\n",
       "      <th></th>\n",
       "      <th>Idade</th>\n",
       "      <th>Genero</th>\n",
       "      <th>Educacao</th>\n",
       "      <th>Cargo</th>\n",
       "      <th>Anos_de_Experiencia</th>\n",
       "      <th>Salario</th>\n",
       "    </tr>\n",
       "  </thead>\n",
       "  <tbody>\n",
       "    <tr>\n",
       "      <th>195</th>\n",
       "      <td>28.0</td>\n",
       "      <td>Male</td>\n",
       "      <td>Bachelor's</td>\n",
       "      <td>Junior Business Analyst</td>\n",
       "      <td>2.0</td>\n",
       "      <td>40000.0</td>\n",
       "    </tr>\n",
       "    <tr>\n",
       "      <th>250</th>\n",
       "      <td>30.0</td>\n",
       "      <td>Female</td>\n",
       "      <td>Bachelor's</td>\n",
       "      <td>Junior Marketing Coordinator</td>\n",
       "      <td>2.0</td>\n",
       "      <td>40000.0</td>\n",
       "    </tr>\n",
       "    <tr>\n",
       "      <th>251</th>\n",
       "      <td>38.0</td>\n",
       "      <td>Male</td>\n",
       "      <td>Master's</td>\n",
       "      <td>Senior IT Consultant</td>\n",
       "      <td>9.0</td>\n",
       "      <td>110000.0</td>\n",
       "    </tr>\n",
       "    <tr>\n",
       "      <th>252</th>\n",
       "      <td>45.0</td>\n",
       "      <td>Female</td>\n",
       "      <td>PhD</td>\n",
       "      <td>Senior Product Designer</td>\n",
       "      <td>15.0</td>\n",
       "      <td>150000.0</td>\n",
       "    </tr>\n",
       "    <tr>\n",
       "      <th>253</th>\n",
       "      <td>28.0</td>\n",
       "      <td>Male</td>\n",
       "      <td>Bachelor's</td>\n",
       "      <td>Junior Business Development Associate</td>\n",
       "      <td>2.0</td>\n",
       "      <td>40000.0</td>\n",
       "    </tr>\n",
       "    <tr>\n",
       "      <th>...</th>\n",
       "      <td>...</td>\n",
       "      <td>...</td>\n",
       "      <td>...</td>\n",
       "      <td>...</td>\n",
       "      <td>...</td>\n",
       "      <td>...</td>\n",
       "    </tr>\n",
       "    <tr>\n",
       "      <th>6699</th>\n",
       "      <td>49.0</td>\n",
       "      <td>Female</td>\n",
       "      <td>PhD</td>\n",
       "      <td>Director of Marketing</td>\n",
       "      <td>20.0</td>\n",
       "      <td>200000.0</td>\n",
       "    </tr>\n",
       "    <tr>\n",
       "      <th>6700</th>\n",
       "      <td>32.0</td>\n",
       "      <td>Male</td>\n",
       "      <td>High School</td>\n",
       "      <td>Sales Associate</td>\n",
       "      <td>3.0</td>\n",
       "      <td>50000.0</td>\n",
       "    </tr>\n",
       "    <tr>\n",
       "      <th>6701</th>\n",
       "      <td>30.0</td>\n",
       "      <td>Female</td>\n",
       "      <td>Bachelor's</td>\n",
       "      <td>Financial Manager</td>\n",
       "      <td>4.0</td>\n",
       "      <td>55000.0</td>\n",
       "    </tr>\n",
       "    <tr>\n",
       "      <th>6702</th>\n",
       "      <td>46.0</td>\n",
       "      <td>Male</td>\n",
       "      <td>Master's</td>\n",
       "      <td>Marketing Manager</td>\n",
       "      <td>14.0</td>\n",
       "      <td>140000.0</td>\n",
       "    </tr>\n",
       "    <tr>\n",
       "      <th>6703</th>\n",
       "      <td>26.0</td>\n",
       "      <td>Female</td>\n",
       "      <td>High School</td>\n",
       "      <td>Sales Executive</td>\n",
       "      <td>1.0</td>\n",
       "      <td>35000.0</td>\n",
       "    </tr>\n",
       "  </tbody>\n",
       "</table>\n",
       "<p>4906 rows × 6 columns</p>\n",
       "</div>"
      ],
      "text/plain": [
       "      Idade  Genero     Educacao                                  Cargo  \\\n",
       "195    28.0    Male   Bachelor's                Junior Business Analyst   \n",
       "250    30.0  Female   Bachelor's           Junior Marketing Coordinator   \n",
       "251    38.0    Male     Master's                   Senior IT Consultant   \n",
       "252    45.0  Female          PhD                Senior Product Designer   \n",
       "253    28.0    Male   Bachelor's  Junior Business Development Associate   \n",
       "...     ...     ...          ...                                    ...   \n",
       "6699   49.0  Female          PhD                  Director of Marketing   \n",
       "6700   32.0    Male  High School                        Sales Associate   \n",
       "6701   30.0  Female   Bachelor's                      Financial Manager   \n",
       "6702   46.0    Male     Master's                      Marketing Manager   \n",
       "6703   26.0  Female  High School                        Sales Executive   \n",
       "\n",
       "      Anos_de_Experiencia   Salario  \n",
       "195                   2.0   40000.0  \n",
       "250                   2.0   40000.0  \n",
       "251                   9.0  110000.0  \n",
       "252                  15.0  150000.0  \n",
       "253                   2.0   40000.0  \n",
       "...                   ...       ...  \n",
       "6699                 20.0  200000.0  \n",
       "6700                  3.0   50000.0  \n",
       "6701                  4.0   55000.0  \n",
       "6702                 14.0  140000.0  \n",
       "6703                  1.0   35000.0  \n",
       "\n",
       "[4906 rows x 6 columns]"
      ]
     },
     "execution_count": 319,
     "metadata": {},
     "output_type": "execute_result"
    }
   ],
   "source": [
    "df.loc[df.duplicated()]"
   ]
  },
  {
   "cell_type": "code",
   "execution_count": 320,
   "id": "73cf9cbd",
   "metadata": {},
   "outputs": [
    {
     "data": {
      "text/html": [
       "<div>\n",
       "<style scoped>\n",
       "    .dataframe tbody tr th:only-of-type {\n",
       "        vertical-align: middle;\n",
       "    }\n",
       "\n",
       "    .dataframe tbody tr th {\n",
       "        vertical-align: top;\n",
       "    }\n",
       "\n",
       "    .dataframe thead th {\n",
       "        text-align: right;\n",
       "    }\n",
       "</style>\n",
       "<table border=\"1\" class=\"dataframe\">\n",
       "  <thead>\n",
       "    <tr style=\"text-align: right;\">\n",
       "      <th></th>\n",
       "      <th>Idade</th>\n",
       "      <th>Genero</th>\n",
       "      <th>Educacao</th>\n",
       "      <th>Cargo</th>\n",
       "      <th>Anos_de_Experiencia</th>\n",
       "      <th>Salario</th>\n",
       "    </tr>\n",
       "  </thead>\n",
       "  <tbody>\n",
       "    <tr>\n",
       "      <th>140</th>\n",
       "      <td>28.0</td>\n",
       "      <td>Male</td>\n",
       "      <td>Bachelor's</td>\n",
       "      <td>Junior Business Analyst</td>\n",
       "      <td>2.0</td>\n",
       "      <td>40000.0</td>\n",
       "    </tr>\n",
       "    <tr>\n",
       "      <th>195</th>\n",
       "      <td>28.0</td>\n",
       "      <td>Male</td>\n",
       "      <td>Bachelor's</td>\n",
       "      <td>Junior Business Analyst</td>\n",
       "      <td>2.0</td>\n",
       "      <td>40000.0</td>\n",
       "    </tr>\n",
       "  </tbody>\n",
       "</table>\n",
       "</div>"
      ],
      "text/plain": [
       "     Idade Genero    Educacao                    Cargo  Anos_de_Experiencia  \\\n",
       "140   28.0   Male  Bachelor's  Junior Business Analyst                  2.0   \n",
       "195   28.0   Male  Bachelor's  Junior Business Analyst                  2.0   \n",
       "\n",
       "     Salario  \n",
       "140  40000.0  \n",
       "195  40000.0  "
      ]
     },
     "execution_count": 320,
     "metadata": {},
     "output_type": "execute_result"
    }
   ],
   "source": [
    "df[(df['Idade'] == 28.0) &\n",
    "  (df['Genero'] == \"Male\") &\n",
    "  (df['Educacao'] == \"Bachelor's\") &\n",
    "  (df['Cargo'] == \"Junior Business Analyst\") &\n",
    "  (df['Anos_de_Experiencia'] == 2.0) &\n",
    "  (df['Salario'] == 40000.0) \n",
    "  ]"
   ]
  },
  {
   "cell_type": "code",
   "execution_count": 321,
   "id": "be44e288",
   "metadata": {},
   "outputs": [
    {
     "data": {
      "text/plain": [
       "4906"
      ]
     },
     "execution_count": 321,
     "metadata": {},
     "output_type": "execute_result"
    }
   ],
   "source": [
    "df.duplicated().sum()"
   ]
  },
  {
   "cell_type": "code",
   "execution_count": 334,
   "id": "ac04732b",
   "metadata": {
    "scrolled": false
   },
   "outputs": [
    {
     "name": "stderr",
     "output_type": "stream",
     "text": [
      "C:\\Users\\joao.morais\\AppData\\Local\\Temp\\ipykernel_19916\\3424306917.py:1: SettingWithCopyWarning: \n",
      "A value is trying to be set on a copy of a slice from a DataFrame\n",
      "\n",
      "See the caveats in the documentation: https://pandas.pydata.org/pandas-docs/stable/user_guide/indexing.html#returning-a-view-versus-a-copy\n",
      "  df.drop_duplicates(inplace = True)\n"
     ]
    }
   ],
   "source": [
    "df.drop_duplicates(inplace = True)"
   ]
  },
  {
   "cell_type": "code",
   "execution_count": 323,
   "id": "158a9832",
   "metadata": {},
   "outputs": [
    {
     "data": {
      "text/plain": [
       "0"
      ]
     },
     "execution_count": 323,
     "metadata": {},
     "output_type": "execute_result"
    }
   ],
   "source": [
    "df.duplicated().sum()"
   ]
  },
  {
   "cell_type": "code",
   "execution_count": 324,
   "id": "b31ba4c2",
   "metadata": {},
   "outputs": [
    {
     "data": {
      "text/plain": [
       "Idade                  1\n",
       "Genero                 1\n",
       "Educacao               2\n",
       "Cargo                  1\n",
       "Anos_de_Experiencia    2\n",
       "Salario                4\n",
       "dtype: int64"
      ]
     },
     "execution_count": 324,
     "metadata": {},
     "output_type": "execute_result"
    }
   ],
   "source": [
    "df.isna().sum()"
   ]
  },
  {
   "cell_type": "code",
   "execution_count": 325,
   "id": "b7a4b937",
   "metadata": {},
   "outputs": [
    {
     "name": "stderr",
     "output_type": "stream",
     "text": [
      "C:\\Users\\joao.morais\\AppData\\Local\\Temp\\ipykernel_19916\\3489114055.py:2: SettingWithCopyWarning: \n",
      "A value is trying to be set on a copy of a slice from a DataFrame\n",
      "\n",
      "See the caveats in the documentation: https://pandas.pydata.org/pandas-docs/stable/user_guide/indexing.html#returning-a-view-versus-a-copy\n",
      "  df.dropna(subset = columns, inplace = True)\n"
     ]
    }
   ],
   "source": [
    "columns = {'Idade', 'Genero', 'Educacao', 'Cargo', 'Anos_de_Experiencia', 'Salario'}\n",
    "df.dropna(subset = columns, inplace = True)"
   ]
  },
  {
   "cell_type": "code",
   "execution_count": 326,
   "id": "416cbe4f",
   "metadata": {},
   "outputs": [
    {
     "data": {
      "text/plain": [
       "Idade                  0\n",
       "Genero                 0\n",
       "Educacao               0\n",
       "Cargo                  0\n",
       "Anos_de_Experiencia    0\n",
       "Salario                0\n",
       "dtype: int64"
      ]
     },
     "execution_count": 326,
     "metadata": {},
     "output_type": "execute_result"
    }
   ],
   "source": [
    "df.isna().sum()"
   ]
  },
  {
   "cell_type": "markdown",
   "id": "d3c935e1",
   "metadata": {},
   "source": [
    "## Respondendo perguntas sobre os dados"
   ]
  },
  {
   "cell_type": "markdown",
   "id": "6d961fe3",
   "metadata": {},
   "source": [
    "###### 1-Relação entre Salário e Educação\n",
    "* Como o nível educacional impacta no salário dos funcionários?"
   ]
  },
  {
   "cell_type": "code",
   "execution_count": 331,
   "id": "c4508f20",
   "metadata": {
    "scrolled": true
   },
   "outputs": [
    {
     "data": {
      "image/png": "[encoded data removed]",
      "text/plain": [
       "<Figure size 1200x500 with 1 Axes>"
      ]
     },
     "metadata": {},
     "output_type": "display_data"
    }
   ],
   "source": [
    "salario_by_educacao = df.groupby('Educacao')['Salario'].mean()\n",
    "\n",
    "salario_by_educacao.plot(kind = 'barh', figsize = (12, 5), title = 'Salário por Nível Educacional')\n",
    "plt.show()"
   ]
  },
  {
   "cell_type": "markdown",
   "id": "409ae8e4",
   "metadata": {},
   "source": [
    "###### 2-Disparidade Salarial entre gêneros:\n",
    "* Existe disparidade salarial entre homens em mulheres para cargos diferentes?"
   ]
  },
  {
   "cell_type": "code",
   "execution_count": 345,
   "id": "aa151354",
   "metadata": {
    "scrolled": true
   },
   "outputs": [
    {
     "data": {
      "text/plain": [
       "<Axes: title={'center': 'Disparidade Salarial por Gênero'}, ylabel='Genero'>"
      ]
     },
     "execution_count": 345,
     "metadata": {},
     "output_type": "execute_result"
    },
    {
     "data": {
      "image/png": "[encoded data removed]",
      "text/plain": [
       "<Figure size 1200x500 with 1 Axes>"
      ]
     },
     "metadata": {},
     "output_type": "display_data"
    }
   ],
   "source": [
    "disparidade_by_gender = df.groupby('Genero')['Salario'].mean()\n",
    "disparidade_by_gender.plot(kind= 'barh', figsize = (12, 5), title = 'Disparidade Salarial por Gênero')"
   ]
  },
  {
   "cell_type": "markdown",
   "id": "2ac9400e",
   "metadata": {},
   "source": [
    "###### 3-Impacto da Experiência no Salário\n",
    "* Como a experiência influencia o salário?"
   ]
  },
  {
   "cell_type": "code",
   "execution_count": 346,
   "id": "72ad8e75",
   "metadata": {},
   "outputs": [
    {
     "data": {
      "text/plain": [
       "<Axes: xlabel='Salario', ylabel='Anos_de_Experiencia'>"
      ]
     },
     "execution_count": 346,
     "metadata": {},
     "output_type": "execute_result"
    },
    {
     "data": {
      "image/png": "[encoded data removed]",
      "text/plain": [
       "<Figure size 640x480 with 1 Axes>"
      ]
     },
     "metadata": {},
     "output_type": "display_data"
    }
   ],
   "source": [
    "sns.scatterplot(x = 'Salario',\n",
    "               y = 'Anos_de_Experiencia',\n",
    "               data= df)"
   ]
  }
 ],
 "metadata": {
  "kernelspec": {
   "display_name": "Python 3 (ipykernel)",
   "language": "python",
   "name": "python3"
  },
  "language_info": {
   "codemirror_mode": {
    "name": "ipython",
    "version": 3
   },
   "file_extension": ".py",
   "mimetype": "text/x-python",
   "name": "python",
   "nbconvert_exporter": "python",
   "pygments_lexer": "ipython3",
   "version": "3.10.9"
  }
 },
 "nbformat": 4,
 "nbformat_minor": 5
}
